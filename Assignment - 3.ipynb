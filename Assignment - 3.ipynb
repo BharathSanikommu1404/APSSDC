{
 "cells": [
  {
   "cell_type": "markdown",
   "id": "c314b434",
   "metadata": {},
   "source": [
    "\n",
    "# Problem - 1:\n",
    "- Take input from the user.\n",
    "- Check the length of the string even or odd\n",
    "- If the string length is odd access one middle character\n",
    "- If the string length is even access two middle characters"
   ]
  },
  {
   "cell_type": "code",
   "execution_count": 6,
   "id": "55878295",
   "metadata": {},
   "outputs": [
    {
     "name": "stdout",
     "output_type": "stream",
     "text": [
      "Input string here : Bharath Sanikommu\n",
      "17\n",
      "Odd String\n",
      "Middle letter from the string is: S\n"
     ]
    }
   ],
   "source": [
    "s = str(input(\"Input string here : \"))\n",
    "l = len(s) // 2\n",
    "print(len(s))\n",
    "if len(s) % 2 == 0:\n",
    "    print(\"Even String\")\n",
    "    print(\"Middle letters from the string are:\",s[len(s)//2-1],s[len(s)//2])\n",
    "else:\n",
    "    print(\"Odd String\")\n",
    "    if len(s) % 2 != 0:\n",
    "        print(\"Middle letter from the string is:\",s[len(s)//2])"
   ]
  }
 ],
 "metadata": {
  "kernelspec": {
   "display_name": "Python 3",
   "language": "python",
   "name": "python3"
  },
  "language_info": {
   "codemirror_mode": {
    "name": "ipython",
    "version": 3
   },
   "file_extension": ".py",
   "mimetype": "text/x-python",
   "name": "python",
   "nbconvert_exporter": "python",
   "pygments_lexer": "ipython3",
   "version": "3.8.8"
  }
 },
 "nbformat": 4,
 "nbformat_minor": 5
}
