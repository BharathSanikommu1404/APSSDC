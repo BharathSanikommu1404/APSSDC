{
 "cells": [
  {
   "cell_type": "markdown",
   "id": "1abd4a01",
   "metadata": {},
   "source": [
    "# Problem-1\n",
    "- Create a function for finding the leap years within the given range"
   ]
  },
  {
   "cell_type": "code",
   "execution_count": 6,
   "id": "0190a08a",
   "metadata": {},
   "outputs": [
    {
     "name": "stdout",
     "output_type": "stream",
     "text": [
      "Input the starting year:2000\n",
      "Input the ending year:2021\n",
      "Leap years between the given range are:\n",
      "2000 2004 2008 2012 2016 2020 "
     ]
    }
   ],
   "source": [
    "def leap_year():\n",
    "    start_year = int(input(\"Input the starting year:\"))\n",
    "    end_year = int(input(\"Input the ending year:\"))\n",
    "    print(\"Leap years between the given range are:\")\n",
    "    for x in range(start_year, end_year):\n",
    "          if (x % 4 == 0) and (x % 100 != 0 ):\n",
    "                print(x,end=\" \")\n",
    "          if (x % 400 == 0):\n",
    "            print(x,end=\" \")\n",
    "leap_year()"
   ]
  },
  {
   "cell_type": "markdown",
   "id": "db423562",
   "metadata": {},
   "source": [
    "# Problem-2\n",
    "- Create a function for getting the armstrong numbers within the given range\n"
   ]
  },
  {
   "cell_type": "code",
   "execution_count": 17,
   "id": "132f505a",
   "metadata": {},
   "outputs": [
    {
     "name": "stdout",
     "output_type": "stream",
     "text": [
      "Input the starting number:1\n",
      "Input the ending number:200\n",
      "1 2 3 4 5 6 7 8 9 153 "
     ]
    }
   ],
   "source": [
    "def armstrong_num():\n",
    "    start_num = int(input(\"Input the starting number:\"))  \n",
    "    end_num = int(input(\"Input the ending number:\")) \n",
    "    for i in range(start_num, end_num + 1):\n",
    "        order = len(str(i))\n",
    "        sum = 0\n",
    "        temp = i\n",
    "        while temp > 0:\n",
    "            y = temp % 10\n",
    "            sum += y ** order\n",
    "            temp //= 10\n",
    "        if i == sum:\n",
    "            print(i,end=\" \")\n",
    "armstrong_num()"
   ]
  },
  {
   "cell_type": "markdown",
   "id": "4942053c",
   "metadata": {},
   "source": [
    "# Problem-3\n",
    "- Create a function for getting the prime numbers within the range\n"
   ]
  },
  {
   "cell_type": "code",
   "execution_count": 19,
   "id": "1996fffb",
   "metadata": {},
   "outputs": [
    {
     "name": "stdout",
     "output_type": "stream",
     "text": [
      "Input the starting number:1\n",
      "Input the ending number:20\n",
      "2 3 5 7 11 13 17 19 "
     ]
    }
   ],
   "source": [
    "def prime():\n",
    "    start_num = int(input(\"Input the starting number:\"))  \n",
    "    end_num = int(input(\"Input the ending number:\"))\n",
    "    for x in range(start_num, end_num + 1):\n",
    "        if x > 1:\n",
    "            for i in range(2, x):\n",
    "                if (x % i) == 0:\n",
    "                    break\n",
    "            else:\n",
    "                print(x,end=\" \")\n",
    "prime()"
   ]
  },
  {
   "cell_type": "markdown",
   "id": "336f36bc",
   "metadata": {},
   "source": [
    "# Problem-4\n",
    "- Create a function for finding the count of elements in a string. \"SRM University\""
   ]
  },
  {
   "cell_type": "code",
   "execution_count": 21,
   "id": "46f50538",
   "metadata": {},
   "outputs": [
    {
     "name": "stdout",
     "output_type": "stream",
     "text": [
      "Input the string Here! :  SRM University\n"
     ]
    },
    {
     "data": {
      "text/plain": [
       "13"
      ]
     },
     "execution_count": 21,
     "metadata": {},
     "output_type": "execute_result"
    }
   ],
   "source": [
    "def element_count():\n",
    "    string = str(input(\"Input the string Here! :  \"))\n",
    "    count = 0\n",
    "    for i in string:\n",
    "        if i.isalpha():\n",
    "            count += 1\n",
    "    return count\n",
    "element_count()"
   ]
  }
 ],
 "metadata": {
  "kernelspec": {
   "display_name": "Python 3",
   "language": "python",
   "name": "python3"
  },
  "language_info": {
   "codemirror_mode": {
    "name": "ipython",
    "version": 3
   },
   "file_extension": ".py",
   "mimetype": "text/x-python",
   "name": "python",
   "nbconvert_exporter": "python",
   "pygments_lexer": "ipython3",
   "version": "3.8.8"
  }
 },
 "nbformat": 4,
 "nbformat_minor": 5
}
