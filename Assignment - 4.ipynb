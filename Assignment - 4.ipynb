{
 "cells": [
  {
   "cell_type": "markdown",
   "id": "4684e134",
   "metadata": {},
   "source": [
    "# Problem-1\n",
    "- Write a Python program that takes two lists and returns True if they have at least one common number\n"
   ]
  },
  {
   "cell_type": "code",
   "execution_count": 5,
   "id": "5172bf0c",
   "metadata": {},
   "outputs": [
    {
     "name": "stdout",
     "output_type": "stream",
     "text": [
      "Input List-1 elements here! : 9 1 1 0 7\n",
      "Input List-2 elements here! : 2 2 9 4 4\n",
      "True\n"
     ]
    }
   ],
   "source": [
    "list1 = []\n",
    "list1 = input(\"Input List-1 elements here! : \").split()\n",
    "list2 = []\n",
    "list2 = input(\"Input List-2 elements here! : \").split()\n",
    "result = False\n",
    "for i in list1:\n",
    "    if i in list2:\n",
    "        result = True\n",
    "        break\n",
    "print(result)"
   ]
  },
  {
   "cell_type": "code",
   "execution_count": 7,
   "id": "e2aba7c2",
   "metadata": {},
   "outputs": [
    {
     "name": "stdout",
     "output_type": "stream",
     "text": [
      "Input List-1 elements here! :  9 1 1 0 7\n",
      "Input List-2 elements here! : 2 3 4 5 6\n",
      "False\n"
     ]
    }
   ],
   "source": [
    "list1 = []\n",
    "list1 = input(\"Input List-1 elements here! : \").split()\n",
    "list2 = []\n",
    "list2 = input(\"Input List-2 elements here! : \").split()\n",
    "result = False\n",
    "for i in list1:\n",
    "    if i in list2:\n",
    "        result = True\n",
    "        break\n",
    "print(result)"
   ]
  }
 ],
 "metadata": {
  "kernelspec": {
   "display_name": "Python 3",
   "language": "python",
   "name": "python3"
  },
  "language_info": {
   "codemirror_mode": {
    "name": "ipython",
    "version": 3
   },
   "file_extension": ".py",
   "mimetype": "text/x-python",
   "name": "python",
   "nbconvert_exporter": "python",
   "pygments_lexer": "ipython3",
   "version": "3.8.8"
  }
 },
 "nbformat": 4,
 "nbformat_minor": 5
}
