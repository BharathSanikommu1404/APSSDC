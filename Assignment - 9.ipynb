{
 "cells": [
  {
   "cell_type": "markdown",
   "id": "f4572afe",
   "metadata": {},
   "source": [
    "# Problem-1\n",
    "- Generate 3-Digit OTP from two different classes(Mail Class & Phone Class)"
   ]
  },
  {
   "cell_type": "code",
   "execution_count": 7,
   "id": "4bfa95ea",
   "metadata": {},
   "outputs": [],
   "source": [
    "import random\n",
    "class Mail:\n",
    "    def __init__(self):\n",
    "        self.v1 = 000\n",
    "        self.v2 = 999\n",
    "    def x(self):\n",
    "            print(random.randint(self.v1,self.v2))        \n",
    "class Phone(Mail):\n",
    "    def y(self):\n",
    "        print(random.randint(self.v1,self.v2))"
   ]
  },
  {
   "cell_type": "code",
   "execution_count": 8,
   "id": "0cda7457",
   "metadata": {},
   "outputs": [
    {
     "name": "stdout",
     "output_type": "stream",
     "text": [
      "107\n"
     ]
    }
   ],
   "source": [
    "#3-Digit OTP from Mail Class\n",
    "obj = Mail()\n",
    "obj.x()"
   ]
  },
  {
   "cell_type": "code",
   "execution_count": 9,
   "id": "7603bf64",
   "metadata": {},
   "outputs": [
    {
     "name": "stdout",
     "output_type": "stream",
     "text": [
      "296\n"
     ]
    }
   ],
   "source": [
    "#3-Digit OTP from Phone Class\n",
    "object1 = Phone()\n",
    "object1.y()"
   ]
  },
  {
   "cell_type": "markdown",
   "id": "8b8e80d9",
   "metadata": {},
   "source": [
    "# Problem-2\n",
    "- Return 6-digit OTP from both base classes(superclasses)"
   ]
  },
  {
   "cell_type": "code",
   "execution_count": 10,
   "id": "5732ff10",
   "metadata": {},
   "outputs": [],
   "source": [
    "class Mail:\n",
    "    def __init__(self):\n",
    "        self.x = random.randint(000,999)\n",
    "class Phone:\n",
    "    def __init__(self):\n",
    "        self.y = random.randint(000,999)\n",
    "        \n",
    "class otp(Phone,Mail):\n",
    "    def __init__(self):\n",
    "        Mail.__init__(self)\n",
    "        Phone.__init__(self)\n",
    "        print(\"OTP:\",self.x,self.y)"
   ]
  },
  {
   "cell_type": "code",
   "execution_count": 11,
   "id": "4d228ce4",
   "metadata": {},
   "outputs": [
    {
     "name": "stdout",
     "output_type": "stream",
     "text": [
      "OTP: 706 139\n"
     ]
    }
   ],
   "source": [
    "obj1 = otp()"
   ]
  }
 ],
 "metadata": {
  "kernelspec": {
   "display_name": "Python 3",
   "language": "python",
   "name": "python3"
  },
  "language_info": {
   "codemirror_mode": {
    "name": "ipython",
    "version": 3
   },
   "file_extension": ".py",
   "mimetype": "text/x-python",
   "name": "python",
   "nbconvert_exporter": "python",
   "pygments_lexer": "ipython3",
   "version": "3.8.8"
  }
 },
 "nbformat": 4,
 "nbformat_minor": 5
}
